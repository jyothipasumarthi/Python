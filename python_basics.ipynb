{
  "nbformat": 4,
  "nbformat_minor": 0,
  "metadata": {
    "colab": {
      "provenance": [],
      "authorship_tag": "ABX9TyMfF8pgOekodWz8pKIelIHe",
      "include_colab_link": true
    },
    "kernelspec": {
      "name": "python3",
      "display_name": "Python 3"
    },
    "language_info": {
      "name": "python"
    }
  },
  "cells": [
    {
      "cell_type": "markdown",
      "metadata": {
        "id": "view-in-github",
        "colab_type": "text"
      },
      "source": [
        "<a href=\"https://colab.research.google.com/github/jyothipasumarthi/Python/blob/main/python_basics.ipynb\" target=\"_parent\"><img src=\"https://colab.research.google.com/assets/colab-badge.svg\" alt=\"Open In Colab\"/></a>"
      ]
    },
    {
      "cell_type": "markdown",
      "source": [
        "**Printing methods:**\n",
        "**->format:**It is useful when we want to construct a string by substituting values."
      ],
      "metadata": {
        "id": "bM5iUaaX2YJH"
      }
    },
    {
      "cell_type": "markdown",
      "source": [],
      "metadata": {
        "id": "xgbjHW802ChN"
      }
    },
    {
      "cell_type": "code",
      "source": [
        "print('{0} is a good boy'.format('ram'))"
      ],
      "metadata": {
        "id": "Te874wnD1f1w"
      },
      "execution_count": null,
      "outputs": []
    },
    {
      "cell_type": "code",
      "source": [
        "name = \"Ram\"\n",
        "position = \"boy\"\n",
        " \n",
        "print(\"{0} is a good {1}\".format(name, position))\n"
      ],
      "metadata": {
        "id": "NYrZb9i-2zwq"
      },
      "execution_count": null,
      "outputs": []
    },
    {
      "cell_type": "markdown",
      "source": [
        "**->f strings:**To write the code in a shortest way"
      ],
      "metadata": {
        "id": "bmred_jj2rFI"
      }
    },
    {
      "cell_type": "code",
      "source": [
        "name = \"Sita\"\n",
        "position = \"developer\"\n",
        " \n",
        "print(f\"{name} is a good {position}\")\n",
        "\n"
      ],
      "metadata": {
        "id": "sHyrJNCb3J2g"
      },
      "execution_count": null,
      "outputs": []
    },
    {
      "cell_type": "markdown",
      "source": [
        "**->end parameter:**By using this, we can print the next new stmt in same line."
      ],
      "metadata": {
        "id": "tO1za8C_3_WI"
      }
    },
    {
      "cell_type": "code",
      "source": [
        "print(\"Hello\",end=\" \")\n",
        "print(\"Good mng....!\")"
      ],
      "metadata": {
        "id": "xljKR8jN4aUR"
      },
      "execution_count": null,
      "outputs": []
    },
    {
      "cell_type": "markdown",
      "source": [
        "**->Escape sequences:**By using these characters we can print ' or \" in the final output.\n",
        "1.  \\\\\t->Prints Backslash   ->print(\"\\\\\")\t\\\n",
        "2.  \\\t  ->Prints single-quote\t->print(\"\\'\")\t'\n",
        "3.  \\\"\t->Prints double quote\t->print(\"\\\"\")\t\"\n",
        "4. \\t\t   ->ASCII horizontal tab (TAB)\t->print(\"\\t* hello\")\t* hello\n",
        "\n",
        "\n",
        "\n",
        "\n"
      ],
      "metadata": {
        "id": "4EPSgXlz4rd9"
      }
    },
    {
      "cell_type": "code",
      "source": [
        "print(\"She asked, \\\"What's your name?\\\"\")\n",
        " \n",
        "# Output: She asked, \"What's your name?\"\n"
      ],
      "metadata": {
        "id": "dVIGYwrt5Pex"
      },
      "execution_count": null,
      "outputs": []
    },
    {
      "cell_type": "code",
      "source": [
        "name=\"sita\"\n",
        "age=20\n",
        "print(f\"{name} having {age} at present\")"
      ],
      "metadata": {
        "id": "ekbUcoKHFc1F"
      },
      "execution_count": null,
      "outputs": []
    },
    {
      "cell_type": "markdown",
      "source": [
        "**Conversions:**"
      ],
      "metadata": {
        "id": "Is92q6r8IATB"
      }
    },
    {
      "cell_type": "code",
      "source": [
        "a=12\n",
        "print(float(a))\n",
        "print(str(a))\n",
        "print(bool(a))"
      ],
      "metadata": {
        "id": "WQBJiwYvIFOv"
      },
      "execution_count": null,
      "outputs": []
    },
    {
      "cell_type": "markdown",
      "source": [
        "**Strings:**"
      ],
      "metadata": {
        "id": "dYMkf8MJNSwU"
      }
    },
    {
      "cell_type": "code",
      "source": [
        "name='Chandu'\n",
        "print(name.upper())\n",
        "print(name.lower())\n"
      ],
      "metadata": {
        "id": "iCVX_-9sQBnK"
      },
      "execution_count": null,
      "outputs": []
    },
    {
      "cell_type": "code",
      "source": [
        "name='Chandu'\n",
        "print(name[0:2])"
      ],
      "metadata": {
        "colab": {
          "base_uri": "https://localhost:8080/"
        },
        "id": "_Y8jE_fbQxVd",
        "outputId": "860f76ff-c5b1-4c29-d73c-c63932debe50"
      },
      "execution_count": null,
      "outputs": [
        {
          "output_type": "stream",
          "name": "stdout",
          "text": [
            "Ch\n"
          ]
        }
      ]
    },
    {
      "cell_type": "code",
      "source": [
        "name='Chandu'\n",
        "print(name[:3])\n",
        "print(name[2:])"
      ],
      "metadata": {
        "id": "SXmAZ0z4R3Yl"
      },
      "execution_count": null,
      "outputs": []
    },
    {
      "cell_type": "code",
      "source": [
        "name='Chandu'\n",
        "print(name[-2])"
      ],
      "metadata": {
        "id": "c-O-sZgEUPYA"
      },
      "execution_count": null,
      "outputs": []
    }
  ]
}